{
 "cells": [
  {
   "cell_type": "markdown",
   "metadata": {},
   "source": [
    "# Prashant Dutt"
   ]
  },
  {
   "cell_type": "markdown",
   "metadata": {
    "tags": []
   },
   "source": [
    "## Research question/interests\n",
    "How does seasonality effect the market? <br>\n",
    "Which sectors/ stocks/ ETFS are most sensitive and least sensitve to seasonality?"
   ]
  },
  {
   "cell_type": "code",
   "execution_count": 3,
   "metadata": {},
   "outputs": [],
   "source": [
    "import pandas as pd\n",
    "import numpy as np\n",
    "import matplotlib.pyplot as plt\n",
    "plt.style.use('fivethirtyeight')\n",
    "plt.show()"
   ]
  },
  {
   "cell_type": "markdown",
   "metadata": {},
   "source": [
    "Let's load a data set. I've chosen RETL - Direxion Daily Retail Bull 3x Shares:\n",
    "\n",
    "*\"RETL, as a levered product, is a short-term tactical instrument and not a buy-and-hold ETF. Like many levered funds, it promises 3x exposure only for one day. Over longer periods, returns can vary significantly from 3x exposure to its underlying index. Investors should note that RETL's underlying index may have a different take on the retail space than other indexes. The fund tends to overweight apparel, auto-parts & service and specialty retailers, while underweighting department stores. RETL’s exposure also extends to some unexpected sectors like oil & gas refining and marketing. As a short-term product, trading costs are relatively more important for the fund, than with buy-and-hold ETFs. Note: On December 1, 2016, RETL changed its underlying index from Russell 1000 Retail Index to S&P Retail Select Industry Index.\"*"
   ]
  },
  {
   "cell_type": "code",
   "execution_count": 5,
   "metadata": {},
   "outputs": [
    {
     "data": {
      "text/html": [
       "<div>\n",
       "<style scoped>\n",
       "    .dataframe tbody tr th:only-of-type {\n",
       "        vertical-align: middle;\n",
       "    }\n",
       "\n",
       "    .dataframe tbody tr th {\n",
       "        vertical-align: top;\n",
       "    }\n",
       "\n",
       "    .dataframe thead th {\n",
       "        text-align: right;\n",
       "    }\n",
       "</style>\n",
       "<table border=\"1\" class=\"dataframe\">\n",
       "  <thead>\n",
       "    <tr style=\"text-align: right;\">\n",
       "      <th></th>\n",
       "      <th>Date</th>\n",
       "      <th>Open</th>\n",
       "      <th>High</th>\n",
       "      <th>Low</th>\n",
       "      <th>Close</th>\n",
       "      <th>Volume</th>\n",
       "      <th>OpenInt</th>\n",
       "    </tr>\n",
       "  </thead>\n",
       "  <tbody>\n",
       "    <tr>\n",
       "      <th>0</th>\n",
       "      <td>2010-07-14</td>\n",
       "      <td>3.0042</td>\n",
       "      <td>3.0842</td>\n",
       "      <td>3.0042</td>\n",
       "      <td>3.0283</td>\n",
       "      <td>923050</td>\n",
       "      <td>0</td>\n",
       "    </tr>\n",
       "    <tr>\n",
       "      <th>1</th>\n",
       "      <td>2010-07-15</td>\n",
       "      <td>3.0314</td>\n",
       "      <td>3.0788</td>\n",
       "      <td>3.0251</td>\n",
       "      <td>3.0717</td>\n",
       "      <td>1225763</td>\n",
       "      <td>0</td>\n",
       "    </tr>\n",
       "    <tr>\n",
       "      <th>2</th>\n",
       "      <td>2010-07-16</td>\n",
       "      <td>2.9498</td>\n",
       "      <td>2.9520</td>\n",
       "      <td>2.8828</td>\n",
       "      <td>2.8937</td>\n",
       "      <td>773018</td>\n",
       "      <td>0</td>\n",
       "    </tr>\n",
       "    <tr>\n",
       "      <th>3</th>\n",
       "      <td>2010-07-19</td>\n",
       "      <td>2.8696</td>\n",
       "      <td>2.8696</td>\n",
       "      <td>2.8588</td>\n",
       "      <td>2.8634</td>\n",
       "      <td>147921</td>\n",
       "      <td>0</td>\n",
       "    </tr>\n",
       "    <tr>\n",
       "      <th>4</th>\n",
       "      <td>2010-07-20</td>\n",
       "      <td>2.8409</td>\n",
       "      <td>2.9708</td>\n",
       "      <td>2.8409</td>\n",
       "      <td>2.9708</td>\n",
       "      <td>54019</td>\n",
       "      <td>0</td>\n",
       "    </tr>\n",
       "  </tbody>\n",
       "</table>\n",
       "</div>"
      ],
      "text/plain": [
       "         Date    Open    High     Low   Close   Volume  OpenInt\n",
       "0  2010-07-14  3.0042  3.0842  3.0042  3.0283   923050        0\n",
       "1  2010-07-15  3.0314  3.0788  3.0251  3.0717  1225763        0\n",
       "2  2010-07-16  2.9498  2.9520  2.8828  2.8937   773018        0\n",
       "3  2010-07-19  2.8696  2.8696  2.8588  2.8634   147921        0\n",
       "4  2010-07-20  2.8409  2.9708  2.8409  2.9708    54019        0"
      ]
     },
     "execution_count": 5,
     "metadata": {},
     "output_type": "execute_result"
    }
   ],
   "source": [
    "data = pd.read_csv(\"../data/raw/archive/ETFs/retl.us.txt\", sep=\",\", header=0, names=[\"Date\", \"Open\", \"High\", \"Low\", \"Close\", \"Volume\", \"OpenInt\"])\n",
    "data.head()"
   ]
  },
  {
   "cell_type": "markdown",
   "metadata": {},
   "source": [
    "First, let's remove OpenInt from the dataset."
   ]
  },
  {
   "cell_type": "code",
   "execution_count": 7,
   "metadata": {},
   "outputs": [
    {
     "data": {
      "text/html": [
       "<div>\n",
       "<style scoped>\n",
       "    .dataframe tbody tr th:only-of-type {\n",
       "        vertical-align: middle;\n",
       "    }\n",
       "\n",
       "    .dataframe tbody tr th {\n",
       "        vertical-align: top;\n",
       "    }\n",
       "\n",
       "    .dataframe thead th {\n",
       "        text-align: right;\n",
       "    }\n",
       "</style>\n",
       "<table border=\"1\" class=\"dataframe\">\n",
       "  <thead>\n",
       "    <tr style=\"text-align: right;\">\n",
       "      <th></th>\n",
       "      <th>Date</th>\n",
       "      <th>Open</th>\n",
       "      <th>High</th>\n",
       "      <th>Low</th>\n",
       "      <th>Close</th>\n",
       "      <th>Volume</th>\n",
       "    </tr>\n",
       "  </thead>\n",
       "  <tbody>\n",
       "    <tr>\n",
       "      <th>1</th>\n",
       "      <td>2010-07-15</td>\n",
       "      <td>3.0314</td>\n",
       "      <td>3.0788</td>\n",
       "      <td>3.0251</td>\n",
       "      <td>3.0717</td>\n",
       "      <td>1225763</td>\n",
       "    </tr>\n",
       "    <tr>\n",
       "      <th>2</th>\n",
       "      <td>2010-07-16</td>\n",
       "      <td>2.9498</td>\n",
       "      <td>2.9520</td>\n",
       "      <td>2.8828</td>\n",
       "      <td>2.8937</td>\n",
       "      <td>773018</td>\n",
       "    </tr>\n",
       "    <tr>\n",
       "      <th>3</th>\n",
       "      <td>2010-07-19</td>\n",
       "      <td>2.8696</td>\n",
       "      <td>2.8696</td>\n",
       "      <td>2.8588</td>\n",
       "      <td>2.8634</td>\n",
       "      <td>147921</td>\n",
       "    </tr>\n",
       "    <tr>\n",
       "      <th>4</th>\n",
       "      <td>2010-07-20</td>\n",
       "      <td>2.8409</td>\n",
       "      <td>2.9708</td>\n",
       "      <td>2.8409</td>\n",
       "      <td>2.9708</td>\n",
       "      <td>54019</td>\n",
       "    </tr>\n",
       "    <tr>\n",
       "      <th>5</th>\n",
       "      <td>2010-07-21</td>\n",
       "      <td>3.0175</td>\n",
       "      <td>3.0205</td>\n",
       "      <td>2.9280</td>\n",
       "      <td>2.9280</td>\n",
       "      <td>48877</td>\n",
       "    </tr>\n",
       "  </tbody>\n",
       "</table>\n",
       "</div>"
      ],
      "text/plain": [
       "         Date    Open    High     Low   Close   Volume\n",
       "1  2010-07-15  3.0314  3.0788  3.0251  3.0717  1225763\n",
       "2  2010-07-16  2.9498  2.9520  2.8828  2.8937   773018\n",
       "3  2010-07-19  2.8696  2.8696  2.8588  2.8634   147921\n",
       "4  2010-07-20  2.8409  2.9708  2.8409  2.9708    54019\n",
       "5  2010-07-21  3.0175  3.0205  2.9280  2.9280    48877"
      ]
     },
     "execution_count": 7,
     "metadata": {},
     "output_type": "execute_result"
    }
   ],
   "source": [
    "data.drop(columns=['OpenInt'], inplace=True)\n",
    "data.head()"
   ]
  },
  {
   "cell_type": "markdown",
   "metadata": {},
   "source": [
    "Next, we examine the datatypes of the vaious components."
   ]
  },
  {
   "cell_type": "code",
   "execution_count": 8,
   "metadata": {},
   "outputs": [
    {
     "name": "stdout",
     "output_type": "stream",
     "text": [
      "<class 'pandas.core.frame.DataFrame'>\n",
      "Int64Index: 1781 entries, 1 to 1781\n",
      "Data columns (total 6 columns):\n",
      " #   Column  Non-Null Count  Dtype  \n",
      "---  ------  --------------  -----  \n",
      " 0   Date    1781 non-null   object \n",
      " 1   Open    1781 non-null   float64\n",
      " 2   High    1781 non-null   float64\n",
      " 3   Low     1781 non-null   float64\n",
      " 4   Close   1781 non-null   float64\n",
      " 5   Volume  1781 non-null   int64  \n",
      "dtypes: float64(4), int64(1), object(1)\n",
      "memory usage: 97.4+ KB\n"
     ]
    }
   ],
   "source": [
    "data.info()"
   ]
  },
  {
   "cell_type": "code",
   "execution_count": null,
   "metadata": {},
   "outputs": [],
   "source": [
    "It looks like the Data column is being treated as a string rather than as a date. Let's fix this."
   ]
  },
  {
   "cell_type": "code",
   "execution_count": 10,
   "metadata": {},
   "outputs": [
    {
     "name": "stdout",
     "output_type": "stream",
     "text": [
      "<class 'pandas.core.frame.DataFrame'>\n",
      "Int64Index: 1781 entries, 1 to 1781\n",
      "Data columns (total 6 columns):\n",
      " #   Column  Non-Null Count  Dtype         \n",
      "---  ------  --------------  -----         \n",
      " 0   Date    1781 non-null   datetime64[ns]\n",
      " 1   Open    1781 non-null   float64       \n",
      " 2   High    1781 non-null   float64       \n",
      " 3   Low     1781 non-null   float64       \n",
      " 4   Close   1781 non-null   float64       \n",
      " 5   Volume  1781 non-null   int64         \n",
      "dtypes: datetime64[ns](1), float64(4), int64(1)\n",
      "memory usage: 97.4 KB\n"
     ]
    }
   ],
   "source": [
    "data['Date'] = data['Date'].apply(pd.to_datetime)\n",
    "data.info()"
   ]
  },
  {
   "cell_type": "markdown",
   "metadata": {},
   "source": [
    "Next we want to make the Date column the index column."
   ]
  },
  {
   "cell_type": "code",
   "execution_count": 11,
   "metadata": {},
   "outputs": [
    {
     "data": {
      "text/html": [
       "<div>\n",
       "<style scoped>\n",
       "    .dataframe tbody tr th:only-of-type {\n",
       "        vertical-align: middle;\n",
       "    }\n",
       "\n",
       "    .dataframe tbody tr th {\n",
       "        vertical-align: top;\n",
       "    }\n",
       "\n",
       "    .dataframe thead th {\n",
       "        text-align: right;\n",
       "    }\n",
       "</style>\n",
       "<table border=\"1\" class=\"dataframe\">\n",
       "  <thead>\n",
       "    <tr style=\"text-align: right;\">\n",
       "      <th></th>\n",
       "      <th>Open</th>\n",
       "      <th>High</th>\n",
       "      <th>Low</th>\n",
       "      <th>Close</th>\n",
       "      <th>Volume</th>\n",
       "    </tr>\n",
       "    <tr>\n",
       "      <th>Date</th>\n",
       "      <th></th>\n",
       "      <th></th>\n",
       "      <th></th>\n",
       "      <th></th>\n",
       "      <th></th>\n",
       "    </tr>\n",
       "  </thead>\n",
       "  <tbody>\n",
       "    <tr>\n",
       "      <th>2010-07-15</th>\n",
       "      <td>3.0314</td>\n",
       "      <td>3.0788</td>\n",
       "      <td>3.0251</td>\n",
       "      <td>3.0717</td>\n",
       "      <td>1225763</td>\n",
       "    </tr>\n",
       "    <tr>\n",
       "      <th>2010-07-16</th>\n",
       "      <td>2.9498</td>\n",
       "      <td>2.9520</td>\n",
       "      <td>2.8828</td>\n",
       "      <td>2.8937</td>\n",
       "      <td>773018</td>\n",
       "    </tr>\n",
       "    <tr>\n",
       "      <th>2010-07-19</th>\n",
       "      <td>2.8696</td>\n",
       "      <td>2.8696</td>\n",
       "      <td>2.8588</td>\n",
       "      <td>2.8634</td>\n",
       "      <td>147921</td>\n",
       "    </tr>\n",
       "    <tr>\n",
       "      <th>2010-07-20</th>\n",
       "      <td>2.8409</td>\n",
       "      <td>2.9708</td>\n",
       "      <td>2.8409</td>\n",
       "      <td>2.9708</td>\n",
       "      <td>54019</td>\n",
       "    </tr>\n",
       "    <tr>\n",
       "      <th>2010-07-21</th>\n",
       "      <td>3.0175</td>\n",
       "      <td>3.0205</td>\n",
       "      <td>2.9280</td>\n",
       "      <td>2.9280</td>\n",
       "      <td>48877</td>\n",
       "    </tr>\n",
       "  </tbody>\n",
       "</table>\n",
       "</div>"
      ],
      "text/plain": [
       "              Open    High     Low   Close   Volume\n",
       "Date                                               \n",
       "2010-07-15  3.0314  3.0788  3.0251  3.0717  1225763\n",
       "2010-07-16  2.9498  2.9520  2.8828  2.8937   773018\n",
       "2010-07-19  2.8696  2.8696  2.8588  2.8634   147921\n",
       "2010-07-20  2.8409  2.9708  2.8409  2.9708    54019\n",
       "2010-07-21  3.0175  3.0205  2.9280  2.9280    48877"
      ]
     },
     "execution_count": 11,
     "metadata": {},
     "output_type": "execute_result"
    }
   ],
   "source": [
    "data.set_index('Date', inplace = True)\n",
    "data.head()"
   ]
  }
 ],
 "metadata": {
  "kernelspec": {
   "display_name": "Python 3 (ipykernel)",
   "language": "python",
   "name": "python3"
  },
  "language_info": {
   "codemirror_mode": {
    "name": "ipython",
    "version": 3
   },
   "file_extension": ".py",
   "mimetype": "text/x-python",
   "name": "python",
   "nbconvert_exporter": "python",
   "pygments_lexer": "ipython3",
   "version": "3.9.5"
  }
 },
 "nbformat": 4,
 "nbformat_minor": 4
}
