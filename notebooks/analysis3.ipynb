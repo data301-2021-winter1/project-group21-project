{
 "cells": [
  {
   "cell_type": "markdown",
   "metadata": {},
   "source": [
    "# Prashant Dutt"
   ]
  },
  {
   "cell_type": "markdown",
   "metadata": {
    "tags": []
   },
   "source": [
    "## Research question/interests\n",
    "How does seasonality effect various stocks and ETFs in the market? <br>\n",
    "Which sectors/ stocks/ ETFS are most sensitive and least sensitve to seasonality?"
   ]
  },
  {
   "cell_type": "code",
   "execution_count": 64,
   "metadata": {},
   "outputs": [],
   "source": [
    "import pandas as pd\n",
    "import numpy as np\n",
    "import matplotlib.pyplot as plt\n",
    "\n",
    "plt.style.use('fivethirtyeight')\n",
    "plt.show()\n",
    "plt.rc(\"axes.spines\", top=False, right=False)"
   ]
  },
  {
   "cell_type": "markdown",
   "metadata": {},
   "source": [
    "Let's load a data set. I've chosen RETL - Direxion Daily Retail Bull 3x Shares:\n",
    "\n",
    "*\"RETL, as a levered product, is a short-term tactical instrument and not a buy-and-hold ETF. Like many levered funds, it promises 3x exposure only for one day. Over longer periods, returns can vary significantly from 3x exposure to its underlying index. Investors should note that RETL's underlying index may have a different take on the retail space than other indexes. The fund tends to overweight apparel, auto-parts & service and specialty retailers, while underweighting department stores. RETL’s exposure also extends to some unexpected sectors like oil & gas refining and marketing. As a short-term product, trading costs are relatively more important for the fund, than with buy-and-hold ETFs. Note: On December 1, 2016, RETL changed its underlying index from Russell 1000 Retail Index to S&P Retail Select Industry Index.\"*"
   ]
  },
  {
   "cell_type": "code",
   "execution_count": 65,
   "metadata": {},
   "outputs": [
    {
     "data": {
      "text/html": [
       "<div>\n",
       "<style scoped>\n",
       "    .dataframe tbody tr th:only-of-type {\n",
       "        vertical-align: middle;\n",
       "    }\n",
       "\n",
       "    .dataframe tbody tr th {\n",
       "        vertical-align: top;\n",
       "    }\n",
       "\n",
       "    .dataframe thead th {\n",
       "        text-align: right;\n",
       "    }\n",
       "</style>\n",
       "<table border=\"1\" class=\"dataframe\">\n",
       "  <thead>\n",
       "    <tr style=\"text-align: right;\">\n",
       "      <th></th>\n",
       "      <th>Date</th>\n",
       "      <th>Open</th>\n",
       "      <th>High</th>\n",
       "      <th>Low</th>\n",
       "      <th>Close</th>\n",
       "      <th>Volume</th>\n",
       "      <th>OpenInt</th>\n",
       "    </tr>\n",
       "  </thead>\n",
       "  <tbody>\n",
       "    <tr>\n",
       "      <th>0</th>\n",
       "      <td>2010-07-14</td>\n",
       "      <td>3.0042</td>\n",
       "      <td>3.0842</td>\n",
       "      <td>3.0042</td>\n",
       "      <td>3.0283</td>\n",
       "      <td>923050</td>\n",
       "      <td>0</td>\n",
       "    </tr>\n",
       "    <tr>\n",
       "      <th>1</th>\n",
       "      <td>2010-07-15</td>\n",
       "      <td>3.0314</td>\n",
       "      <td>3.0788</td>\n",
       "      <td>3.0251</td>\n",
       "      <td>3.0717</td>\n",
       "      <td>1225763</td>\n",
       "      <td>0</td>\n",
       "    </tr>\n",
       "    <tr>\n",
       "      <th>2</th>\n",
       "      <td>2010-07-16</td>\n",
       "      <td>2.9498</td>\n",
       "      <td>2.9520</td>\n",
       "      <td>2.8828</td>\n",
       "      <td>2.8937</td>\n",
       "      <td>773018</td>\n",
       "      <td>0</td>\n",
       "    </tr>\n",
       "    <tr>\n",
       "      <th>3</th>\n",
       "      <td>2010-07-19</td>\n",
       "      <td>2.8696</td>\n",
       "      <td>2.8696</td>\n",
       "      <td>2.8588</td>\n",
       "      <td>2.8634</td>\n",
       "      <td>147921</td>\n",
       "      <td>0</td>\n",
       "    </tr>\n",
       "    <tr>\n",
       "      <th>4</th>\n",
       "      <td>2010-07-20</td>\n",
       "      <td>2.8409</td>\n",
       "      <td>2.9708</td>\n",
       "      <td>2.8409</td>\n",
       "      <td>2.9708</td>\n",
       "      <td>54019</td>\n",
       "      <td>0</td>\n",
       "    </tr>\n",
       "  </tbody>\n",
       "</table>\n",
       "</div>"
      ],
      "text/plain": [
       "         Date    Open    High     Low   Close   Volume  OpenInt\n",
       "0  2010-07-14  3.0042  3.0842  3.0042  3.0283   923050        0\n",
       "1  2010-07-15  3.0314  3.0788  3.0251  3.0717  1225763        0\n",
       "2  2010-07-16  2.9498  2.9520  2.8828  2.8937   773018        0\n",
       "3  2010-07-19  2.8696  2.8696  2.8588  2.8634   147921        0\n",
       "4  2010-07-20  2.8409  2.9708  2.8409  2.9708    54019        0"
      ]
     },
     "execution_count": 65,
     "metadata": {},
     "output_type": "execute_result"
    }
   ],
   "source": [
    "RETL = pd.read_csv(\"../data/raw/archive/ETFs/retl.us.txt\", sep=\",\", header=0, names=[\"Date\", \"Open\", \"High\", \"Low\", \"Close\", \"Volume\", \"OpenInt\"])\n",
    "RETL.head()"
   ]
  },
  {
   "cell_type": "markdown",
   "metadata": {},
   "source": [
    "First, let's remove OpenInt from the dataset."
   ]
  },
  {
   "cell_type": "code",
   "execution_count": 66,
   "metadata": {},
   "outputs": [
    {
     "data": {
      "text/html": [
       "<div>\n",
       "<style scoped>\n",
       "    .dataframe tbody tr th:only-of-type {\n",
       "        vertical-align: middle;\n",
       "    }\n",
       "\n",
       "    .dataframe tbody tr th {\n",
       "        vertical-align: top;\n",
       "    }\n",
       "\n",
       "    .dataframe thead th {\n",
       "        text-align: right;\n",
       "    }\n",
       "</style>\n",
       "<table border=\"1\" class=\"dataframe\">\n",
       "  <thead>\n",
       "    <tr style=\"text-align: right;\">\n",
       "      <th></th>\n",
       "      <th>Date</th>\n",
       "      <th>Open</th>\n",
       "      <th>High</th>\n",
       "      <th>Low</th>\n",
       "      <th>Close</th>\n",
       "      <th>Volume</th>\n",
       "    </tr>\n",
       "  </thead>\n",
       "  <tbody>\n",
       "    <tr>\n",
       "      <th>0</th>\n",
       "      <td>2010-07-14</td>\n",
       "      <td>3.0042</td>\n",
       "      <td>3.0842</td>\n",
       "      <td>3.0042</td>\n",
       "      <td>3.0283</td>\n",
       "      <td>923050</td>\n",
       "    </tr>\n",
       "    <tr>\n",
       "      <th>1</th>\n",
       "      <td>2010-07-15</td>\n",
       "      <td>3.0314</td>\n",
       "      <td>3.0788</td>\n",
       "      <td>3.0251</td>\n",
       "      <td>3.0717</td>\n",
       "      <td>1225763</td>\n",
       "    </tr>\n",
       "    <tr>\n",
       "      <th>2</th>\n",
       "      <td>2010-07-16</td>\n",
       "      <td>2.9498</td>\n",
       "      <td>2.9520</td>\n",
       "      <td>2.8828</td>\n",
       "      <td>2.8937</td>\n",
       "      <td>773018</td>\n",
       "    </tr>\n",
       "    <tr>\n",
       "      <th>3</th>\n",
       "      <td>2010-07-19</td>\n",
       "      <td>2.8696</td>\n",
       "      <td>2.8696</td>\n",
       "      <td>2.8588</td>\n",
       "      <td>2.8634</td>\n",
       "      <td>147921</td>\n",
       "    </tr>\n",
       "    <tr>\n",
       "      <th>4</th>\n",
       "      <td>2010-07-20</td>\n",
       "      <td>2.8409</td>\n",
       "      <td>2.9708</td>\n",
       "      <td>2.8409</td>\n",
       "      <td>2.9708</td>\n",
       "      <td>54019</td>\n",
       "    </tr>\n",
       "  </tbody>\n",
       "</table>\n",
       "</div>"
      ],
      "text/plain": [
       "         Date    Open    High     Low   Close   Volume\n",
       "0  2010-07-14  3.0042  3.0842  3.0042  3.0283   923050\n",
       "1  2010-07-15  3.0314  3.0788  3.0251  3.0717  1225763\n",
       "2  2010-07-16  2.9498  2.9520  2.8828  2.8937   773018\n",
       "3  2010-07-19  2.8696  2.8696  2.8588  2.8634   147921\n",
       "4  2010-07-20  2.8409  2.9708  2.8409  2.9708    54019"
      ]
     },
     "execution_count": 66,
     "metadata": {},
     "output_type": "execute_result"
    }
   ],
   "source": [
    "RETL.drop(columns=['OpenInt'], inplace=True)\n",
    "RETL.head()"
   ]
  },
  {
   "cell_type": "markdown",
   "metadata": {},
   "source": [
    "Next, we examine the datatypes of the vaious components."
   ]
  },
  {
   "cell_type": "code",
   "execution_count": 67,
   "metadata": {},
   "outputs": [
    {
     "name": "stdout",
     "output_type": "stream",
     "text": [
      "<class 'pandas.core.frame.DataFrame'>\n",
      "RangeIndex: 1782 entries, 0 to 1781\n",
      "Data columns (total 6 columns):\n",
      " #   Column  Non-Null Count  Dtype  \n",
      "---  ------  --------------  -----  \n",
      " 0   Date    1782 non-null   object \n",
      " 1   Open    1782 non-null   float64\n",
      " 2   High    1782 non-null   float64\n",
      " 3   Low     1782 non-null   float64\n",
      " 4   Close   1782 non-null   float64\n",
      " 5   Volume  1782 non-null   int64  \n",
      "dtypes: float64(4), int64(1), object(1)\n",
      "memory usage: 83.7+ KB\n"
     ]
    }
   ],
   "source": [
    "RETL.info()"
   ]
  },
  {
   "cell_type": "markdown",
   "metadata": {},
   "source": [
    "It looks like the Data column is being treated as a string rather than as a date. Let's fix this."
   ]
  },
  {
   "cell_type": "code",
   "execution_count": 68,
   "metadata": {},
   "outputs": [
    {
     "name": "stdout",
     "output_type": "stream",
     "text": [
      "<class 'pandas.core.frame.DataFrame'>\n",
      "RangeIndex: 1782 entries, 0 to 1781\n",
      "Data columns (total 6 columns):\n",
      " #   Column  Non-Null Count  Dtype         \n",
      "---  ------  --------------  -----         \n",
      " 0   Date    1782 non-null   datetime64[ns]\n",
      " 1   Open    1782 non-null   float64       \n",
      " 2   High    1782 non-null   float64       \n",
      " 3   Low     1782 non-null   float64       \n",
      " 4   Close   1782 non-null   float64       \n",
      " 5   Volume  1782 non-null   int64         \n",
      "dtypes: datetime64[ns](1), float64(4), int64(1)\n",
      "memory usage: 83.7 KB\n"
     ]
    }
   ],
   "source": [
    "RETL['Date'] = RETL['Date'].apply(pd.to_datetime)\n",
    "RETL.info()"
   ]
  },
  {
   "cell_type": "markdown",
   "metadata": {},
   "source": [
    "Next we want to make the Date column the index column."
   ]
  },
  {
   "cell_type": "code",
   "execution_count": 69,
   "metadata": {},
   "outputs": [
    {
     "data": {
      "text/html": [
       "<div>\n",
       "<style scoped>\n",
       "    .dataframe tbody tr th:only-of-type {\n",
       "        vertical-align: middle;\n",
       "    }\n",
       "\n",
       "    .dataframe tbody tr th {\n",
       "        vertical-align: top;\n",
       "    }\n",
       "\n",
       "    .dataframe thead th {\n",
       "        text-align: right;\n",
       "    }\n",
       "</style>\n",
       "<table border=\"1\" class=\"dataframe\">\n",
       "  <thead>\n",
       "    <tr style=\"text-align: right;\">\n",
       "      <th></th>\n",
       "      <th>Date</th>\n",
       "      <th>Open</th>\n",
       "      <th>High</th>\n",
       "      <th>Low</th>\n",
       "      <th>Close</th>\n",
       "      <th>Volume</th>\n",
       "    </tr>\n",
       "  </thead>\n",
       "  <tbody>\n",
       "    <tr>\n",
       "      <th>0</th>\n",
       "      <td>2010-07-14</td>\n",
       "      <td>3.0042</td>\n",
       "      <td>3.0842</td>\n",
       "      <td>3.0042</td>\n",
       "      <td>3.0283</td>\n",
       "      <td>923050</td>\n",
       "    </tr>\n",
       "    <tr>\n",
       "      <th>1</th>\n",
       "      <td>2010-07-15</td>\n",
       "      <td>3.0314</td>\n",
       "      <td>3.0788</td>\n",
       "      <td>3.0251</td>\n",
       "      <td>3.0717</td>\n",
       "      <td>1225763</td>\n",
       "    </tr>\n",
       "    <tr>\n",
       "      <th>2</th>\n",
       "      <td>2010-07-16</td>\n",
       "      <td>2.9498</td>\n",
       "      <td>2.9520</td>\n",
       "      <td>2.8828</td>\n",
       "      <td>2.8937</td>\n",
       "      <td>773018</td>\n",
       "    </tr>\n",
       "    <tr>\n",
       "      <th>3</th>\n",
       "      <td>2010-07-19</td>\n",
       "      <td>2.8696</td>\n",
       "      <td>2.8696</td>\n",
       "      <td>2.8588</td>\n",
       "      <td>2.8634</td>\n",
       "      <td>147921</td>\n",
       "    </tr>\n",
       "    <tr>\n",
       "      <th>4</th>\n",
       "      <td>2010-07-20</td>\n",
       "      <td>2.8409</td>\n",
       "      <td>2.9708</td>\n",
       "      <td>2.8409</td>\n",
       "      <td>2.9708</td>\n",
       "      <td>54019</td>\n",
       "    </tr>\n",
       "  </tbody>\n",
       "</table>\n",
       "</div>"
      ],
      "text/plain": [
       "        Date    Open    High     Low   Close   Volume\n",
       "0 2010-07-14  3.0042  3.0842  3.0042  3.0283   923050\n",
       "1 2010-07-15  3.0314  3.0788  3.0251  3.0717  1225763\n",
       "2 2010-07-16  2.9498  2.9520  2.8828  2.8937   773018\n",
       "3 2010-07-19  2.8696  2.8696  2.8588  2.8634   147921\n",
       "4 2010-07-20  2.8409  2.9708  2.8409  2.9708    54019"
      ]
     },
     "execution_count": 69,
     "metadata": {},
     "output_type": "execute_result"
    }
   ],
   "source": [
    "RETL.set_index('Date', inplace = True)\n",
    "RETL.reset_index().head()"
   ]
  },
  {
   "cell_type": "markdown",
   "metadata": {},
   "source": [
    "From this data we can see that the **Open** and **Close** columns show the opening and closing price of the ETF on a particular day.\n",
    "\n",
    "The **High** and **Low** columns provide the highest and lowest price for the ETF on a partiular day, respectively.\n",
    "\n",
    "The **Volume** column shows the total volume of the ETF traded on a particular day.\n",
    "\n",
    "**Note:** Since we don't have Adjusted Closing Price in our data set, we will use the **Close** column to perform a detailed analysis.\n",
    "\n",
    "\n",
    "\n",
    "Let's take a look at a plot of closing prices over the years for RETL."
   ]
  },
  {
   "cell_type": "code",
   "execution_count": 70,
   "metadata": {},
   "outputs": [
    {
     "data": {
      "text/plain": [
       "<AxesSubplot:title={'center':'RETL Closing Prices'}, xlabel='Date'>"
      ]
     },
     "execution_count": 70,
     "metadata": {},
     "output_type": "execute_result"
    },
    {
     "data": {
      "image/png": "[encoded data removed]",
      "text/plain": [
       "<Figure size 1152x576 with 1 Axes>"
      ]
     },
     "metadata": {},
     "output_type": "display_data"
    }
   ],
   "source": [
    "RETL['Close'].plot(figsize=(16,8),title='RETL Closing Prices')"
   ]
  },
  {
   "cell_type": "markdown",
   "metadata": {},
   "source": [
    "It looks like RETL more or less had a steady increase in its ETF over 2011-2017, followed by a drop from 2017 to 2018. \n",
    "\n",
    "Let's use pandas to analyse and manipulare this data to gain insights."
   ]
  },
  {
   "cell_type": "markdown",
   "metadata": {},
   "source": [
    "Let's use python's built-in datetime module. \n",
    "In pandas, a single point in time is represented as a pandas.Timestamp and we can use the dataframe() function to create dateime objects from strings in a wide variety of date/time formats."
   ]
  },
  {
   "cell_type": "code",
   "execution_count": 71,
   "metadata": {},
   "outputs": [
    {
     "name": "stdout",
     "output_type": "stream",
     "text": [
      "The day is :  1\n",
      "The hour is :  10\n",
      "The month is :  1\n"
     ]
    }
   ],
   "source": [
    "from datetime import datetime\n",
    "my_year = 2018\n",
    "my_month = 1\n",
    "my_day = 1\n",
    "my_hour = 10\n",
    "my_minute = 5\n",
    "my_second = 30\n",
    "\n",
    "test_date = datetime(my_year, my_month, my_day, my_hour, my_minute, my_second)\n",
    "print('The day is : ', test_date.day)\n",
    "print('The hour is : ', test_date.hour)\n",
    "print('The month is : ', test_date.month)"
   ]
  },
  {
   "cell_type": "markdown",
   "metadata": {},
   "source": [
    "Examining stock price data for every single day isn’t of much use to financial institutions, who are more interested in spotting market trends. \n",
    "To make it easier, we use a process called time resampling to aggregate data into a defined time period, such as by month or by quarter. \n",
    "Institutions can then see an overview of stock prices and make decisions according to these trends.           \n",
    "\n",
    "The pandas library has a resample() function which resamples such time series data. \n",
    "The resample method in pandas is similar to its groupby method as it is essentially grouping according to a certain time span. \n",
    "The resample() function looks like this:"
   ]
  },
  {
   "cell_type": "markdown",
   "metadata": {},
   "source": [
    "- data.resample() is used to resample the stock data.\n",
    "- The ‘A’ stands for year-end frequency, and denotes the offset values by which we want to resample the data.\n",
    "- mean() indicates that we want the average stock price during this period.\n",
    "\n",
    "The output looks like this, with average stock data displayed for December 31st of each year   "
   ]
  },
  {
   "cell_type": "code",
   "execution_count": 73,
   "metadata": {},
   "outputs": [
    {
     "data": {
      "text/html": [
       "<div>\n",
       "<style scoped>\n",
       "    .dataframe tbody tr th:only-of-type {\n",
       "        vertical-align: middle;\n",
       "    }\n",
       "\n",
       "    .dataframe tbody tr th {\n",
       "        vertical-align: top;\n",
       "    }\n",
       "\n",
       "    .dataframe thead th {\n",
       "        text-align: right;\n",
       "    }\n",
       "</style>\n",
       "<table border=\"1\" class=\"dataframe\">\n",
       "  <thead>\n",
       "    <tr style=\"text-align: right;\">\n",
       "      <th></th>\n",
       "      <th>Open</th>\n",
       "      <th>High</th>\n",
       "      <th>Low</th>\n",
       "      <th>Close</th>\n",
       "      <th>Volume</th>\n",
       "    </tr>\n",
       "    <tr>\n",
       "      <th>Date</th>\n",
       "      <th></th>\n",
       "      <th></th>\n",
       "      <th></th>\n",
       "      <th></th>\n",
       "      <th></th>\n",
       "    </tr>\n",
       "  </thead>\n",
       "  <tbody>\n",
       "    <tr>\n",
       "      <th>2010-12-31</th>\n",
       "      <td>3.695259</td>\n",
       "      <td>3.723494</td>\n",
       "      <td>3.665628</td>\n",
       "      <td>3.694805</td>\n",
       "      <td>82979.767241</td>\n",
       "    </tr>\n",
       "    <tr>\n",
       "      <th>2011-12-31</th>\n",
       "      <td>4.593935</td>\n",
       "      <td>4.622068</td>\n",
       "      <td>4.560398</td>\n",
       "      <td>4.591317</td>\n",
       "      <td>49454.892157</td>\n",
       "    </tr>\n",
       "    <tr>\n",
       "      <th>2012-12-31</th>\n",
       "      <td>7.588093</td>\n",
       "      <td>7.668341</td>\n",
       "      <td>7.482349</td>\n",
       "      <td>7.580353</td>\n",
       "      <td>35203.970711</td>\n",
       "    </tr>\n",
       "    <tr>\n",
       "      <th>2013-12-31</th>\n",
       "      <td>13.604767</td>\n",
       "      <td>13.767786</td>\n",
       "      <td>13.400687</td>\n",
       "      <td>13.594846</td>\n",
       "      <td>36427.243028</td>\n",
       "    </tr>\n",
       "    <tr>\n",
       "      <th>2014-12-31</th>\n",
       "      <td>17.632056</td>\n",
       "      <td>17.838228</td>\n",
       "      <td>17.396540</td>\n",
       "      <td>17.620200</td>\n",
       "      <td>28626.560000</td>\n",
       "    </tr>\n",
       "    <tr>\n",
       "      <th>2015-12-31</th>\n",
       "      <td>32.071671</td>\n",
       "      <td>32.619544</td>\n",
       "      <td>31.387214</td>\n",
       "      <td>32.024583</td>\n",
       "      <td>48680.984127</td>\n",
       "    </tr>\n",
       "    <tr>\n",
       "      <th>2016-12-31</th>\n",
       "      <td>37.526361</td>\n",
       "      <td>38.061737</td>\n",
       "      <td>36.854949</td>\n",
       "      <td>37.460448</td>\n",
       "      <td>29330.178571</td>\n",
       "    </tr>\n",
       "    <tr>\n",
       "      <th>2017-12-31</th>\n",
       "      <td>29.392408</td>\n",
       "      <td>29.872434</td>\n",
       "      <td>28.738192</td>\n",
       "      <td>29.297938</td>\n",
       "      <td>41672.311927</td>\n",
       "    </tr>\n",
       "  </tbody>\n",
       "</table>\n",
       "</div>"
      ],
      "text/plain": [
       "                 Open       High        Low      Close        Volume\n",
       "Date                                                                \n",
       "2010-12-31   3.695259   3.723494   3.665628   3.694805  82979.767241\n",
       "2011-12-31   4.593935   4.622068   4.560398   4.591317  49454.892157\n",
       "2012-12-31   7.588093   7.668341   7.482349   7.580353  35203.970711\n",
       "2013-12-31  13.604767  13.767786  13.400687  13.594846  36427.243028\n",
       "2014-12-31  17.632056  17.838228  17.396540  17.620200  28626.560000\n",
       "2015-12-31  32.071671  32.619544  31.387214  32.024583  48680.984127\n",
       "2016-12-31  37.526361  38.061737  36.854949  37.460448  29330.178571\n",
       "2017-12-31  29.392408  29.872434  28.738192  29.297938  41672.311927"
      ]
     },
     "execution_count": 73,
     "metadata": {},
     "output_type": "execute_result"
    }
   ],
   "source": [
    "RETL.resample(rule = 'A').mean()"
   ]
  },
  {
   "cell_type": "markdown",
   "metadata": {},
   "source": [
    "We can also use time sampling to plot charts for specific columns."
   ]
  },
  {
   "cell_type": "code",
   "execution_count": 75,
   "metadata": {},
   "outputs": [
    {
     "data": {
      "text/plain": [
       "Text(0.5, 1.0, 'Monthly Mean Close Price for RETL')"
      ]
     },
     "execution_count": 75,
     "metadata": {},
     "output_type": "execute_result"
    },
    {
     "data": {
      "image/png": "[encoded data removed]",
      "text/plain": [
       "<Figure size 1152x576 with 1 Axes>"
      ]
     },
     "metadata": {},
     "output_type": "display_data"
    }
   ],
   "source": [
    "RETL['Close'].resample('M').mean().plot(kind='bar',figsize = (16,8))\n",
    "plt.title('Monthly Mean Close Price for RETL')"
   ]
  },
  {
   "cell_type": "markdown",
   "metadata": {},
   "source": [
    "The above bar plot corresponds to RETL's average closing price at month-end for each year in our data set.\n",
    "It's still a bit noisy so let's zoom into 2014-2016 years and see if we can spot any trends."
   ]
  },
  {
   "cell_type": "code",
   "execution_count": 83,
   "metadata": {},
   "outputs": [
    {
     "data": {
      "text/plain": [
       "Text(0.5, 1.0, 'Monthly Mean Close Price for RETL for 2014-2016')"
      ]
     },
     "execution_count": 83,
     "metadata": {},
     "output_type": "execute_result"
    },
    {
     "data": {
      "image/png": "[encoded data removed]",
      "text/plain": [
       "<Figure size 1152x576 with 1 Axes>"
      ]
     },
     "metadata": {},
     "output_type": "display_data"
    }
   ],
   "source": [
    "start_date = datetime(2014,1,1)\n",
    "end_date = datetime(2017,1,1)\n",
    "RETL[(start_date <= RETL.index) & (RETL.index <= end_date)]['Close'].resample('M').mean().plot(kind ='bar', figsize = (16,8))\n",
    "plt.title('Monthly Mean Close Price for RETL for 2014-2016')"
   ]
  },
  {
   "cell_type": "markdown",
   "metadata": {},
   "source": [
    "Here we can see that overall there is a drop in close prices around Jan and Feb followed by a steady increase during the rest of the months until Jan and Feb again."
   ]
  }
 ],
 "metadata": {
  "kernelspec": {
   "display_name": "Python 3 (ipykernel)",
   "language": "python",
   "name": "python3"
  },
  "language_info": {
   "codemirror_mode": {
    "name": "ipython",
    "version": 3
   },
   "file_extension": ".py",
   "mimetype": "text/x-python",
   "name": "python",
   "nbconvert_exporter": "python",
   "pygments_lexer": "ipython3",
   "version": "3.9.5"
  }
 },
 "nbformat": 4,
 "nbformat_minor": 4
}
