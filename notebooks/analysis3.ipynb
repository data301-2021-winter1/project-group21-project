{
 "cells": [
  {
   "cell_type": "markdown",
   "metadata": {},
   "source": [
    "# Prashant Dutt"
   ]
  },
  {
   "cell_type": "markdown",
   "metadata": {
    "tags": []
   },
   "source": [
    "## Research question/interests\n",
    "How does seasonality effect the market? <br>\n",
    "Which sectors/ stocks/ ETFS are most sensitive and least sensitve to seasonality?"
   ]
  },
  {
   "cell_type": "code",
   "execution_count": 12,
   "metadata": {},
   "outputs": [
    {
     "data": {
      "text/html": [
       "<div>\n",
       "<style scoped>\n",
       "    .dataframe tbody tr th:only-of-type {\n",
       "        vertical-align: middle;\n",
       "    }\n",
       "\n",
       "    .dataframe tbody tr th {\n",
       "        vertical-align: top;\n",
       "    }\n",
       "\n",
       "    .dataframe thead th {\n",
       "        text-align: right;\n",
       "    }\n",
       "</style>\n",
       "<table border=\"1\" class=\"dataframe\">\n",
       "  <thead>\n",
       "    <tr style=\"text-align: right;\">\n",
       "      <th></th>\n",
       "      <th>Date</th>\n",
       "      <th>Open</th>\n",
       "      <th>High</th>\n",
       "      <th>Low</th>\n",
       "      <th>Close</th>\n",
       "      <th>Volume</th>\n",
       "      <th>OpenInt</th>\n",
       "    </tr>\n",
       "  </thead>\n",
       "  <tbody>\n",
       "    <tr>\n",
       "      <th>0</th>\n",
       "      <td>2010-07-14</td>\n",
       "      <td>3.0042</td>\n",
       "      <td>3.0842</td>\n",
       "      <td>3.0042</td>\n",
       "      <td>3.0283</td>\n",
       "      <td>923050</td>\n",
       "      <td>0</td>\n",
       "    </tr>\n",
       "    <tr>\n",
       "      <th>1</th>\n",
       "      <td>2010-07-15</td>\n",
       "      <td>3.0314</td>\n",
       "      <td>3.0788</td>\n",
       "      <td>3.0251</td>\n",
       "      <td>3.0717</td>\n",
       "      <td>1225763</td>\n",
       "      <td>0</td>\n",
       "    </tr>\n",
       "    <tr>\n",
       "      <th>2</th>\n",
       "      <td>2010-07-16</td>\n",
       "      <td>2.9498</td>\n",
       "      <td>2.9520</td>\n",
       "      <td>2.8828</td>\n",
       "      <td>2.8937</td>\n",
       "      <td>773018</td>\n",
       "      <td>0</td>\n",
       "    </tr>\n",
       "    <tr>\n",
       "      <th>3</th>\n",
       "      <td>2010-07-19</td>\n",
       "      <td>2.8696</td>\n",
       "      <td>2.8696</td>\n",
       "      <td>2.8588</td>\n",
       "      <td>2.8634</td>\n",
       "      <td>147921</td>\n",
       "      <td>0</td>\n",
       "    </tr>\n",
       "    <tr>\n",
       "      <th>4</th>\n",
       "      <td>2010-07-20</td>\n",
       "      <td>2.8409</td>\n",
       "      <td>2.9708</td>\n",
       "      <td>2.8409</td>\n",
       "      <td>2.9708</td>\n",
       "      <td>54019</td>\n",
       "      <td>0</td>\n",
       "    </tr>\n",
       "  </tbody>\n",
       "</table>\n",
       "</div>"
      ],
      "text/plain": [
       "         Date    Open    High     Low   Close   Volume  OpenInt\n",
       "0  2010-07-14  3.0042  3.0842  3.0042  3.0283   923050        0\n",
       "1  2010-07-15  3.0314  3.0788  3.0251  3.0717  1225763        0\n",
       "2  2010-07-16  2.9498  2.9520  2.8828  2.8937   773018        0\n",
       "3  2010-07-19  2.8696  2.8696  2.8588  2.8634   147921        0\n",
       "4  2010-07-20  2.8409  2.9708  2.8409  2.9708    54019        0"
      ]
     },
     "execution_count": 12,
     "metadata": {},
     "output_type": "execute_result"
    }
   ],
   "source": [
    "import pandas as pd\n",
    "data = pd.read_csv(\"../data/raw/archive/ETFs/retl.us.txt\", sep=\",\", header=0, names=[\"Date\", \"Open\", \"High\", \"Low\", \"Close\", \"Volume\", \"OpenInt\"])\n",
    "data.head()"
   ]
  },
  {
   "cell_type": "code",
   "execution_count": null,
   "metadata": {},
   "outputs": [],
   "source": []
  }
 ],
 "metadata": {
  "kernelspec": {
   "display_name": "Python 3 (ipykernel)",
   "language": "python",
   "name": "python3"
  },
  "language_info": {
   "codemirror_mode": {
    "name": "ipython",
    "version": 3
   },
   "file_extension": ".py",
   "mimetype": "text/x-python",
   "name": "python",
   "nbconvert_exporter": "python",
   "pygments_lexer": "ipython3",
   "version": "3.9.7"
  }
 },
 "nbformat": 4,
 "nbformat_minor": 4
}
